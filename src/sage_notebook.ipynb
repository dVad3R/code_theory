{
 "cells": [
  {
   "cell_type": "code",
   "execution_count": 92,
   "metadata": {},
   "outputs": [],
   "source": [
    "# function to generate all the sub lists\n",
    "def sub_lists (l):\n",
    "    lists = []\n",
    "    for i in range(len(l) + 1):\n",
    "        for j in range(i):\n",
    "            lists.append(l[j: i])\n",
    "    return lists"
   ]
  },
  {
   "cell_type": "code",
   "execution_count": 180,
   "metadata": {},
   "outputs": [
    {
     "name": "stdout",
     "output_type": "stream",
     "text": [
      "Please enter the length of each code (eg. 10, 5):\n",
      "5,7\n",
      "****************************************\n",
      "****************************************\n",
      "[*] C1=10111, G1 =(x+1)\n",
      "[*] C2=0111010, G2 =(x^3+x^2+1)\n"
     ]
    }
   ],
   "source": [
    "import random\n",
    "\n",
    "c1_len, c2_len = input(\"Please enter the length of each code (eg. 10, 5):\\n\").strip().split(\",\")\n",
    "\n",
    "c1_len = int(c1_len)\n",
    "c2_len = int(c2_len)\n",
    "\n",
    "def cc(c_len):\n",
    "    F.<x> = GF(2)[]\n",
    "    combs = []\n",
    "\n",
    "    pol = x^c_len+1\n",
    "    \n",
    "    factorized_pol = pol.factor()\n",
    "    \n",
    "    factors = str(factorized_pol).replace(\" \", \"\").split(\"*\")\n",
    "    \n",
    "    combs = sub_lists(factors)\n",
    "    \n",
    "    combs.insert(0,\"1\")\n",
    "    \n",
    "    \"\"\"\n",
    "    counter = 1\n",
    "    for comb in combs:\n",
    "        print(\"[*] Generator polynomial no\",counter, \":\")\n",
    "        print(\"*\".join([factor.replace(\" \", \"\") for factor in comb]))\n",
    "        counter += 1\n",
    "    \"\"\"\n",
    "    gen_pol = \"*\".join(combs[random.randrange(len(combs))])\n",
    "    \n",
    "    C = codes.CyclicCode(generator_pol = F(gen_pol), length = c_len)\n",
    "    \n",
    "    C = list(C)\n",
    "    code = \"\".join(str(digit) for digit in choice(C))\n",
    "          \n",
    "    return [code, gen_pol]\n",
    "\n",
    "print(\"*\"*40)\n",
    "c1, g1 = cc(c1_len)\n",
    "print(\"*\"*40)\n",
    "c2, g2 = cc(c2_len)\n",
    "\n",
    "print(\"[*] C1=\"+ str(c1)+ \", G1 =\"+ str(g1))\n",
    "print(\"[*] C2=\"+ str(c2)+ \", G2 =\"+ str(g2))"
   ]
  },
  {
   "cell_type": "code",
   "execution_count": null,
   "metadata": {},
   "outputs": [],
   "source": []
  }
 ],
 "metadata": {
  "kernelspec": {
   "display_name": "SageMath 9.2",
   "language": "sage",
   "name": "sagemath"
  },
  "language_info": {
   "codemirror_mode": {
    "name": "ipython",
    "version": 3
   },
   "file_extension": ".py",
   "mimetype": "text/x-python",
   "name": "python",
   "nbconvert_exporter": "python",
   "pygments_lexer": "ipython3",
   "version": "3.7.7"
  }
 },
 "nbformat": 4,
 "nbformat_minor": 4
}
