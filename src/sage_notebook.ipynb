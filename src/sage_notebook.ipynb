{
 "cells": [
  {
   "cell_type": "code",
   "execution_count": 1,
   "metadata": {},
   "outputs": [],
   "source": [
    "# function to generate all the sub lists\n",
    "def sub_lists (l):\n",
    "    lists = []\n",
    "    for i in range(len(l) + 1):\n",
    "        for j in range(i):\n",
    "            lists.append(l[j: i])\n",
    "    return lists"
   ]
  },
  {
   "cell_type": "code",
   "execution_count": 36,
   "metadata": {},
   "outputs": [
    {
     "name": "stdout",
     "output_type": "stream",
     "text": [
      "Please enter the length of each code (eg. 5, 7):\n",
      "7,9\n",
      "****************************************\n",
      "****************************************\n",
      "[*] C1=0101000, Generator Polynomial:(x+1)\n",
      "G1 =\n",
      "[1 1 0 0 0 0 0]\n",
      "[0 1 1 0 0 0 0]\n",
      "[0 0 1 1 0 0 0]\n",
      "[0 0 0 1 1 0 0]\n",
      "[0 0 0 0 1 1 0]\n",
      "[0 0 0 0 0 1 1]\n",
      "P1 =\n",
      "[1 1 1 1 1 1 1]\n",
      "[*] C2=000000000, Generator Polynomial:(x^2+x+1)*(x^6+x^3+1)\n",
      "G2 =\n",
      "[1 1 1 1 1 1 1 1 1]\n",
      "P2 =\n",
      "[1 1 0 0 0 0 0 0 0]\n",
      "[0 1 1 0 0 0 0 0 0]\n",
      "[0 0 1 1 0 0 0 0 0]\n",
      "[0 0 0 1 1 0 0 0 0]\n",
      "[0 0 0 0 1 1 0 0 0]\n",
      "[0 0 0 0 0 1 1 0 0]\n",
      "[0 0 0 0 0 0 1 1 0]\n",
      "[0 0 0 0 0 0 0 1 1]\n"
     ]
    },
    {
     "ename": "TypeError",
     "evalue": "unsupported operand parent(s) for *: 'Full MatrixSpace of 6 by 7 dense matrices over Finite Field of size 2' and 'Full MatrixSpace of 1 by 7 dense matrices over Finite Field of size 2'",
     "output_type": "error",
     "traceback": [
      "\u001b[0;31m---------------------------------------------------------------------------\u001b[0m",
      "\u001b[0;31mTypeError\u001b[0m                                 Traceback (most recent call last)",
      "\u001b[0;32m<ipython-input-36-9b41b952b3d9>\u001b[0m in \u001b[0;36m<module>\u001b[0;34m\u001b[0m\n\u001b[1;32m     47\u001b[0m \u001b[0mprint\u001b[0m\u001b[0;34m(\u001b[0m\u001b[0;34m\"[*] C2=\"\u001b[0m\u001b[0;34m+\u001b[0m \u001b[0mstr\u001b[0m\u001b[0;34m(\u001b[0m\u001b[0mc2\u001b[0m\u001b[0;34m)\u001b[0m\u001b[0;34m+\u001b[0m \u001b[0;34m\", Generator Polynomial:\"\u001b[0m\u001b[0;34m+\u001b[0m \u001b[0mstr\u001b[0m\u001b[0;34m(\u001b[0m\u001b[0mgen_pol2\u001b[0m\u001b[0;34m)\u001b[0m\u001b[0;34m+\u001b[0m \u001b[0;34m\"\\nG2 =\\n\"\u001b[0m\u001b[0;34m+\u001b[0m \u001b[0mstr\u001b[0m\u001b[0;34m(\u001b[0m\u001b[0mg2\u001b[0m\u001b[0;34m)\u001b[0m\u001b[0;34m+\u001b[0m \u001b[0;34m\"\\nP2 =\\n\"\u001b[0m\u001b[0;34m+\u001b[0m \u001b[0mstr\u001b[0m\u001b[0;34m(\u001b[0m\u001b[0mp2\u001b[0m\u001b[0;34m)\u001b[0m\u001b[0;34m)\u001b[0m\u001b[0;34m\u001b[0m\u001b[0;34m\u001b[0m\u001b[0m\n\u001b[1;32m     48\u001b[0m \u001b[0;34m\u001b[0m\u001b[0m\n\u001b[0;32m---> 49\u001b[0;31m \u001b[0mprint\u001b[0m\u001b[0;34m(\u001b[0m\u001b[0mstr\u001b[0m\u001b[0;34m(\u001b[0m\u001b[0mg1\u001b[0m\u001b[0;34m*\u001b[0m\u001b[0mp1\u001b[0m\u001b[0;34m)\u001b[0m\u001b[0;34m)\u001b[0m\u001b[0;34m\u001b[0m\u001b[0;34m\u001b[0m\u001b[0m\n\u001b[0m",
      "\u001b[0;32m/opt/sagemath-9.2/local/lib/python3.7/site-packages/sage/structure/element.pyx\u001b[0m in \u001b[0;36msage.structure.element.Matrix.__mul__ (build/cythonized/sage/structure/element.c:23925)\u001b[0;34m()\u001b[0m\n\u001b[1;32m   3813\u001b[0m \u001b[0;34m\u001b[0m\u001b[0m\n\u001b[1;32m   3814\u001b[0m         \u001b[0;32mif\u001b[0m \u001b[0mBOTH_ARE_ELEMENT\u001b[0m\u001b[0;34m(\u001b[0m\u001b[0mcl\u001b[0m\u001b[0;34m)\u001b[0m\u001b[0;34m:\u001b[0m\u001b[0;34m\u001b[0m\u001b[0;34m\u001b[0m\u001b[0m\n\u001b[0;32m-> 3815\u001b[0;31m             \u001b[0;32mreturn\u001b[0m \u001b[0mcoercion_model\u001b[0m\u001b[0;34m.\u001b[0m\u001b[0mbin_op\u001b[0m\u001b[0;34m(\u001b[0m\u001b[0mleft\u001b[0m\u001b[0;34m,\u001b[0m \u001b[0mright\u001b[0m\u001b[0;34m,\u001b[0m \u001b[0mmul\u001b[0m\u001b[0;34m)\u001b[0m\u001b[0;34m\u001b[0m\u001b[0;34m\u001b[0m\u001b[0m\n\u001b[0m\u001b[1;32m   3816\u001b[0m \u001b[0;34m\u001b[0m\u001b[0m\n\u001b[1;32m   3817\u001b[0m         \u001b[0mcdef\u001b[0m \u001b[0mlong\u001b[0m \u001b[0mvalue\u001b[0m\u001b[0;34m\u001b[0m\u001b[0;34m\u001b[0m\u001b[0m\n",
      "\u001b[0;32m/opt/sagemath-9.2/local/lib/python3.7/site-packages/sage/structure/coerce.pyx\u001b[0m in \u001b[0;36msage.structure.coerce.CoercionModel.bin_op (build/cythonized/sage/structure/coerce.c:11304)\u001b[0;34m()\u001b[0m\n\u001b[1;32m   1246\u001b[0m         \u001b[0;31m# We should really include the underlying error.\u001b[0m\u001b[0;34m\u001b[0m\u001b[0;34m\u001b[0m\u001b[0;34m\u001b[0m\u001b[0m\n\u001b[1;32m   1247\u001b[0m         \u001b[0;31m# This causes so much headache.\u001b[0m\u001b[0;34m\u001b[0m\u001b[0;34m\u001b[0m\u001b[0;34m\u001b[0m\u001b[0m\n\u001b[0;32m-> 1248\u001b[0;31m         \u001b[0;32mraise\u001b[0m \u001b[0mbin_op_exception\u001b[0m\u001b[0;34m(\u001b[0m\u001b[0mop\u001b[0m\u001b[0;34m,\u001b[0m \u001b[0mx\u001b[0m\u001b[0;34m,\u001b[0m \u001b[0my\u001b[0m\u001b[0;34m)\u001b[0m\u001b[0;34m\u001b[0m\u001b[0;34m\u001b[0m\u001b[0m\n\u001b[0m\u001b[1;32m   1249\u001b[0m \u001b[0;34m\u001b[0m\u001b[0m\n\u001b[1;32m   1250\u001b[0m     \u001b[0mcpdef\u001b[0m \u001b[0mcanonical_coercion\u001b[0m\u001b[0;34m(\u001b[0m\u001b[0mself\u001b[0m\u001b[0;34m,\u001b[0m \u001b[0mx\u001b[0m\u001b[0;34m,\u001b[0m \u001b[0my\u001b[0m\u001b[0;34m)\u001b[0m\u001b[0;34m:\u001b[0m\u001b[0;34m\u001b[0m\u001b[0;34m\u001b[0m\u001b[0m\n",
      "\u001b[0;31mTypeError\u001b[0m: unsupported operand parent(s) for *: 'Full MatrixSpace of 6 by 7 dense matrices over Finite Field of size 2' and 'Full MatrixSpace of 1 by 7 dense matrices over Finite Field of size 2'"
     ]
    }
   ],
   "source": [
    "import random\n",
    "\n",
    "c1_len, c2_len = input(\"Please enter the length of each code (eg. 5, 7):\\n\").strip().split(\",\")\n",
    "\n",
    "c1_len = int(c1_len)\n",
    "c2_len = int(c2_len)\n",
    "\n",
    "def cc(c_len):\n",
    "    F.<x> = GF(2)[]\n",
    "    combs = []\n",
    "\n",
    "    pol = x^c_len+1\n",
    "    \n",
    "    factorized_pol = pol.factor()\n",
    "    \n",
    "    factors = str(factorized_pol).replace(\" \", \"\").split(\"*\")\n",
    "    \n",
    "    combs = sub_lists(factors)\n",
    "    \n",
    "    combs.insert(0,\"1\")\n",
    "    \n",
    "    \"\"\"\n",
    "    counter = 1\n",
    "    for comb in combs:\n",
    "        print(\"[*] Generator polynomial no\",counter, \":\")\n",
    "        print(\"*\".join([factor.replace(\" \", \"\") for factor in comb]))\n",
    "        counter += 1\n",
    "    \"\"\"\n",
    "    gen_pol = \"*\".join(combs[random.randrange(len(combs))])\n",
    "    \n",
    "    \n",
    "    C = codes.CyclicCode(generator_pol = F(gen_pol), length = c_len)\n",
    "    \n",
    "    gen_matrix = C.generator_matrix()\n",
    "    p = C.parity_check_matrix()\n",
    "    C = list(C)\n",
    "    code = \"\".join(str(digit) for digit in choice(C))\n",
    "          \n",
    "    return [code, gen_pol, gen_matrix, p]\n",
    "\n",
    "print(\"*\"*40)\n",
    "c1, gen_pol1, g1, p1 = cc(c1_len)\n",
    "print(\"*\"*40)\n",
    "c2, gen_pol2, g2, p2 = cc(c2_len)\n",
    "\n",
    "print(\"[*] C1=\"+ str(c1)+ \", Generator Polynomial:\"+ str(gen_pol1)+ \"\\nG1 =\\n\"+ str(g1)+ \"\\nP1 =\\n\"+ str(p1))\n",
    "print(\"[*] C2=\"+ str(c2)+ \", Generator Polynomial:\"+ str(gen_pol2)+ \"\\nG2 =\\n\"+ str(g2)+ \"\\nP2 =\\n\"+ str(p2))\n",
    "\n",
    "print(str(g1*p1))"
   ]
  },
  {
   "cell_type": "code",
   "execution_count": 9,
   "metadata": {},
   "outputs": [
    {
     "name": "stdout",
     "output_type": "stream",
     "text": [
      "****************************************\n"
     ]
    },
    {
     "ename": "AttributeError",
     "evalue": "'str' object has no attribute 'minimum_distance'",
     "output_type": "error",
     "traceback": [
      "\u001b[0;31m---------------------------------------------------------------------------\u001b[0m",
      "\u001b[0;31mAttributeError\u001b[0m                            Traceback (most recent call last)",
      "\u001b[0;32m<ipython-input-9-1a351c761428>\u001b[0m in \u001b[0;36m<module>\u001b[0;34m\u001b[0m\n\u001b[1;32m      1\u001b[0m \u001b[0mprint\u001b[0m\u001b[0;34m(\u001b[0m\u001b[0;34m\"*\"\u001b[0m\u001b[0;34m*\u001b[0m\u001b[0mInteger\u001b[0m\u001b[0;34m(\u001b[0m\u001b[0;36m40\u001b[0m\u001b[0;34m)\u001b[0m\u001b[0;34m)\u001b[0m\u001b[0;34m\u001b[0m\u001b[0;34m\u001b[0m\u001b[0m\n\u001b[0;32m----> 2\u001b[0;31m \u001b[0mmin_dist\u001b[0m \u001b[0;34m=\u001b[0m \u001b[0mc2\u001b[0m\u001b[0;34m.\u001b[0m\u001b[0mminimum_distance\u001b[0m\u001b[0;34m(\u001b[0m\u001b[0;34m)\u001b[0m\u001b[0;34m\u001b[0m\u001b[0;34m\u001b[0m\u001b[0m\n\u001b[0m\u001b[1;32m      3\u001b[0m \u001b[0mmsg\u001b[0m \u001b[0;34m=\u001b[0m \u001b[0mstr\u001b[0m\u001b[0;34m(\u001b[0m\u001b[0minput\u001b[0m\u001b[0;34m(\u001b[0m\u001b[0;34m\"[*] Please enter the message you wish to encode: \"\u001b[0m\u001b[0;34m)\u001b[0m\u001b[0;34m)\u001b[0m\u001b[0;34m\u001b[0m\u001b[0;34m\u001b[0m\u001b[0m\n",
      "\u001b[0;31mAttributeError\u001b[0m: 'str' object has no attribute 'minimum_distance'"
     ]
    }
   ],
   "source": [
    "print(\"*\"*40)\n",
    "min_dist = c2.minimum_distance()\n",
    "msg = str(input(\"[*] Please enter the message you wish to encode: \"))\n"
   ]
  },
  {
   "cell_type": "code",
   "execution_count": null,
   "metadata": {},
   "outputs": [],
   "source": []
  },
  {
   "cell_type": "code",
   "execution_count": null,
   "metadata": {},
   "outputs": [],
   "source": []
  }
 ],
 "metadata": {
  "kernelspec": {
   "display_name": "SageMath 9.2",
   "language": "sage",
   "name": "sagemath"
  },
  "language_info": {
   "codemirror_mode": {
    "name": "ipython",
    "version": 3
   },
   "file_extension": ".py",
   "mimetype": "text/x-python",
   "name": "python",
   "nbconvert_exporter": "python",
   "pygments_lexer": "ipython3",
   "version": "3.7.7"
  }
 },
 "nbformat": 4,
 "nbformat_minor": 4
}
